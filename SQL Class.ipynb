{
 "cells": [
  {
   "cell_type": "code",
   "execution_count": 1,
   "metadata": {},
   "outputs": [],
   "source": [
    "import sqlite3"
   ]
  },
  {
   "cell_type": "code",
   "execution_count": 2,
   "metadata": {},
   "outputs": [],
   "source": [
    "con = sqlite3.connect('mydatabase.db')"
   ]
  },
  {
   "cell_type": "code",
   "execution_count": 3,
   "metadata": {},
   "outputs": [],
   "source": [
    "cursor = con.cursor()"
   ]
  },
  {
   "cell_type": "code",
   "execution_count": 4,
   "metadata": {},
   "outputs": [],
   "source": [
    "cursor.execute(\"CREATE TABLE employees(id integer PRIMARY KEY, name text, salary real, department text, position text, hireDate text)\")\n",
    "con.commit()"
   ]
  },
  {
   "cell_type": "code",
   "execution_count": 5,
   "metadata": {},
   "outputs": [],
   "source": [
    "cursor.execute(\"INSERT INTO employees VALUES(1,'Winner Emeto',700,'IT','Manager','2021-06-22')\")\n",
    "con.commit()"
   ]
  },
  {
   "cell_type": "code",
   "execution_count": 6,
   "metadata": {},
   "outputs": [],
   "source": [
    "cursor.execute(\"INSERT INTO employees VALUES(2,'Mercy',800,'IT','Manager','2021-06-22')\")\n",
    "con.commit()"
   ]
  },
  {
   "cell_type": "code",
   "execution_count": 7,
   "metadata": {},
   "outputs": [],
   "source": [
    "entities = (3,'Emeto',1000,'HR','Manager','2021-06-22')\n",
    "cursor.execute(\"INSERT INTO employees(id,name,salary,department,position,hireDate) VALUES(?,?,?,?,?,?)\",entities)\n",
    "con.commit()"
   ]
  },
  {
   "cell_type": "code",
   "execution_count": 8,
   "metadata": {},
   "outputs": [
    {
     "name": "stdout",
     "output_type": "stream",
     "text": [
      "Enter your ID: 4\n",
      "Enter your name: Joy Mercy\n",
      "Enter your salary: 1500\n",
      "Enter your department: HR\n",
      "Enter your position: Manager\n",
      "Enter date \"YYYY-M-D\": 2021-06-13\n",
      "Data has been inserted!!!\n"
     ]
    }
   ],
   "source": [
    "user_id = int(input('Enter your ID: '))\n",
    "name = input('Enter your name: ')\n",
    "salary = float(input('Enter your salary: '))\n",
    "department = input('Enter your department: ')\n",
    "position = input('Enter your position: ')\n",
    "date = input('Enter date \"YYYY-M-D\": ')\n",
    "entities = (user_id,name,salary,department,position,date)\n",
    "cursor.execute(\"INSERT INTO employees(id,name,salary,department,position,hireDate) VALUES(?,?,?,?,?,?)\",entities)\n",
    "con.commit()\n",
    "print('Data has been inserted!!!')"
   ]
  },
  {
   "cell_type": "code",
   "execution_count": 11,
   "metadata": {},
   "outputs": [],
   "source": [
    "# user_id = int(input('Enter your ID: '))\n",
    "# name = input('Enter your name: ')\n",
    "# salary = float(input('Enter your salary: '))\n",
    "# department = input('Enter your department: ')\n",
    "# position = input('Enter your position: ')\n",
    "# date = input('Enter date \"YYYY-M-D\": ')\n",
    "# cursor.execute(f\"INSERT INTO employees VALUES({user_id},{name},{salary},{department},{position},{date})\")\n",
    "# con.commit()"
   ]
  },
  {
   "cell_type": "code",
   "execution_count": 13,
   "metadata": {},
   "outputs": [],
   "source": [
    "cursor.execute('UPDATE employees SET name = \"George\" where id = 3')\n",
    "con.commit()"
   ]
  },
  {
   "cell_type": "code",
   "execution_count": 14,
   "metadata": {},
   "outputs": [],
   "source": [
    "cursor.execute('UPDATE employees SET salary = 700 where id = 3')\n",
    "con.commit()"
   ]
  },
  {
   "cell_type": "code",
   "execution_count": 16,
   "metadata": {},
   "outputs": [
    {
     "name": "stdout",
     "output_type": "stream",
     "text": [
      "(1, 'Winner Emeto', 700.0, 'IT', 'Manager', '2021-06-22')\n",
      "(2, 'Mercy', 800.0, 'IT', 'Manager', '2021-06-22')\n",
      "(3, 'George', 700.0, 'HR', 'Manager', '2021-06-22')\n",
      "(4, 'Joy Mercy', 1500.0, 'HR', 'Manager', '2021-06-13')\n"
     ]
    }
   ],
   "source": [
    "cursor.execute('SELECT * FROM employees')\n",
    "rows = cursor.fetchall()\n",
    "for row in rows:\n",
    "    print(row)"
   ]
  },
  {
   "cell_type": "code",
   "execution_count": 17,
   "metadata": {},
   "outputs": [],
   "source": [
    "cursor.execute(\"UPDATE employees SET salary=300,name='Peter' where id = 2\")\n",
    "con.commit()"
   ]
  },
  {
   "cell_type": "code",
   "execution_count": 26,
   "metadata": {},
   "outputs": [
    {
     "name": "stdout",
     "output_type": "stream",
     "text": [
      "(700.0, '2021-06-22')\n",
      "(300.0, '2021-06-22')\n",
      "(700.0, '2021-06-22')\n",
      "(1500.0, '2021-06-13')\n"
     ]
    }
   ],
   "source": [
    "cursor.execute('SELECT salary,hireDate FROM employees')\n",
    "rows = cursor.fetchall()\n",
    "for row in rows:\n",
    "    print(row)"
   ]
  },
  {
   "cell_type": "code",
   "execution_count": 27,
   "metadata": {},
   "outputs": [
    {
     "name": "stdout",
     "output_type": "stream",
     "text": [
      "(700.0, '2021-06-22')\n",
      "(300.0, '2021-06-22')\n",
      "(1500.0, '2021-06-13')\n"
     ]
    }
   ],
   "source": [
    "cursor.execute('SELECT DISTINCT salary,hireDate FROM employees')\n",
    "rows = cursor.fetchall()\n",
    "for row in rows:\n",
    "    print(row)"
   ]
  },
  {
   "cell_type": "code",
   "execution_count": 28,
   "metadata": {},
   "outputs": [
    {
     "name": "stdout",
     "output_type": "stream",
     "text": [
      "(700.0, '2021-06-22')\n",
      "(700.0, '2021-06-22')\n"
     ]
    }
   ],
   "source": [
    "cursor.execute('SELECT salary,hireDate FROM employees WHERE salary = 700')\n",
    "rows = cursor.fetchall()\n",
    "for row in rows:\n",
    "    print(row)"
   ]
  },
  {
   "cell_type": "code",
   "execution_count": 29,
   "metadata": {},
   "outputs": [],
   "source": [
    "cursor.execute(\"UPDATE employees SET hireDate='2021-06-20' where id = 1\")\n",
    "con.commit()"
   ]
  },
  {
   "cell_type": "code",
   "execution_count": 31,
   "metadata": {},
   "outputs": [
    {
     "name": "stdout",
     "output_type": "stream",
     "text": [
      "(700.0, '2021-06-20')\n",
      "(700.0, '2021-06-22')\n"
     ]
    }
   ],
   "source": [
    "cursor.execute('SELECT salary,hireDate FROM employees WHERE salary = 700')\n",
    "rows = cursor.fetchall()\n",
    "for row in rows:\n",
    "     print(row)"
   ]
  },
  {
   "cell_type": "code",
   "execution_count": 32,
   "metadata": {},
   "outputs": [
    {
     "name": "stdout",
     "output_type": "stream",
     "text": [
      "(700.0, '2021-06-20')\n"
     ]
    }
   ],
   "source": [
    "cursor.execute('SELECT salary,hireDate FROM employees WHERE salary = 700 AND hireDate = \"2021-06-20\"')\n",
    "rows = cursor.fetchall()\n",
    "for row in rows:\n",
    "     print(row)"
   ]
  },
  {
   "cell_type": "code",
   "execution_count": 33,
   "metadata": {},
   "outputs": [
    {
     "name": "stdout",
     "output_type": "stream",
     "text": [
      "(1, 'Winner Emeto', 700.0, 'IT', 'Manager', '2021-06-20')\n"
     ]
    }
   ],
   "source": [
    "cursor.execute('SELECT * FROM employees WHERE salary = 700 AND hireDate = \"2021-06-20\"')\n",
    "rows = cursor.fetchall()\n",
    "for row in rows:\n",
    "     print(row)"
   ]
  },
  {
   "cell_type": "code",
   "execution_count": 35,
   "metadata": {},
   "outputs": [
    {
     "data": {
      "text/plain": [
       "[(1, 'Winner Emeto', 700.0, 'IT', 'Manager', '2021-06-20'),\n",
       " (2, 'Peter', 300.0, 'IT', 'Manager', '2021-06-22'),\n",
       " (3, 'George', 700.0, 'HR', 'Manager', '2021-06-22'),\n",
       " (4, 'Joy Mercy', 1500.0, 'HR', 'Manager', '2021-06-13')]"
      ]
     },
     "execution_count": 35,
     "metadata": {},
     "output_type": "execute_result"
    }
   ],
   "source": [
    "cursor.execute('SELECT * FROM employees ORDER BY id')\n",
    "rows = cursor.fetchall()\n",
    "rows"
   ]
  },
  {
   "cell_type": "code",
   "execution_count": 37,
   "metadata": {},
   "outputs": [
    {
     "name": "stdout",
     "output_type": "stream",
     "text": [
      "(2, 'Peter', 300.0, 'IT', 'Manager', '2021-06-22')\n",
      "(1, 'Winner Emeto', 700.0, 'IT', 'Manager', '2021-06-20')\n",
      "(3, 'George', 700.0, 'HR', 'Manager', '2021-06-22')\n",
      "(4, 'Joy Mercy', 1500.0, 'HR', 'Manager', '2021-06-13')\n"
     ]
    }
   ],
   "source": [
    "cursor.execute('SELECT * FROM employees ORDER BY salary')\n",
    "rows = cursor.fetchall()\n",
    "for row in rows:\n",
    "     print(row)"
   ]
  },
  {
   "cell_type": "code",
   "execution_count": 38,
   "metadata": {},
   "outputs": [
    {
     "data": {
      "text/plain": [
       "[(4, 'Joy Mercy', 1500.0, 'HR', 'Manager', '2021-06-13'),\n",
       " (3, 'George', 700.0, 'HR', 'Manager', '2021-06-22'),\n",
       " (2, 'Peter', 300.0, 'IT', 'Manager', '2021-06-22'),\n",
       " (1, 'Winner Emeto', 700.0, 'IT', 'Manager', '2021-06-20')]"
      ]
     },
     "execution_count": 38,
     "metadata": {},
     "output_type": "execute_result"
    }
   ],
   "source": [
    "cursor.execute('SELECT * FROM employees ORDER BY id DESC')\n",
    "rows = cursor.fetchall()\n",
    "rows"
   ]
  },
  {
   "cell_type": "code",
   "execution_count": 40,
   "metadata": {},
   "outputs": [],
   "source": [
    "cursor.execute('DELETE FROM employees WHERE id=1')\n",
    "con.commit()"
   ]
  },
  {
   "cell_type": "code",
   "execution_count": 41,
   "metadata": {},
   "outputs": [
    {
     "data": {
      "text/plain": [
       "[(4, 'Joy Mercy', 1500.0, 'HR', 'Manager', '2021-06-13'),\n",
       " (3, 'George', 700.0, 'HR', 'Manager', '2021-06-22'),\n",
       " (2, 'Peter', 300.0, 'IT', 'Manager', '2021-06-22')]"
      ]
     },
     "execution_count": 41,
     "metadata": {},
     "output_type": "execute_result"
    }
   ],
   "source": [
    "cursor.execute('SELECT * FROM employees ORDER BY id DESC')\n",
    "rows = cursor.fetchall()\n",
    "rows"
   ]
  },
  {
   "cell_type": "code",
   "execution_count": 45,
   "metadata": {},
   "outputs": [
    {
     "data": {
      "text/plain": [
       "[(3,)]"
      ]
     },
     "execution_count": 45,
     "metadata": {},
     "output_type": "execute_result"
    }
   ],
   "source": [
    "cursor.execute('SELECT COUNT(id) FROM employees')\n",
    "rows = cursor.fetchall()\n",
    "rows"
   ]
  },
  {
   "cell_type": "code",
   "execution_count": 43,
   "metadata": {},
   "outputs": [
    {
     "data": {
      "text/plain": [
       "[3, 4, 5, 5, 6]"
      ]
     },
     "execution_count": 43,
     "metadata": {},
     "output_type": "execute_result"
    }
   ],
   "source": [
    "data = [3,4,5,5,6]\n",
    "data"
   ]
  },
  {
   "cell_type": "code",
   "execution_count": 44,
   "metadata": {},
   "outputs": [
    {
     "data": {
      "text/plain": [
       "5"
      ]
     },
     "execution_count": 44,
     "metadata": {},
     "output_type": "execute_result"
    }
   ],
   "source": [
    "len(data)"
   ]
  },
  {
   "cell_type": "code",
   "execution_count": 48,
   "metadata": {},
   "outputs": [
    {
     "name": "stdout",
     "output_type": "stream",
     "text": [
      "Enter your ID: 7\n",
      "Enter your name: Obinna\n",
      "Enter your salary: 300\n",
      "Enter your department: HR\n",
      "Enter your position: Manager\n",
      "Enter date \"YYYY-M-D\": 2021-06-27\n",
      "Data has been inserted!!!\n"
     ]
    }
   ],
   "source": [
    "user_id = int(input('Enter your ID: '))\n",
    "name = input('Enter your name: ')\n",
    "salary = float(input('Enter your salary: '))\n",
    "department = input('Enter your department: ')\n",
    "position = input('Enter your position: ')\n",
    "date = input('Enter date \"YYYY-M-D\": ')\n",
    "entities = (user_id,name,salary,department,position,date)\n",
    "cursor.execute(\"INSERT INTO employees(id,name,salary,department,position,hireDate) VALUES(?,?,?,?,?,?)\",entities)\n",
    "con.commit()\n",
    "print('Data has been inserted!!!')"
   ]
  },
  {
   "cell_type": "code",
   "execution_count": 49,
   "metadata": {},
   "outputs": [
    {
     "data": {
      "text/plain": [
       "[(7, 'Obinna', 300.0, 'HR', 'Manager', '2021-06-27'),\n",
       " (6, 'Joy', 4959.0, 'HHG', 'TR', '2021-06-19'),\n",
       " (5, 'Mike', 33.0, 'HHG', 'UUR', '2021-06-18'),\n",
       " (4, 'Joy Mercy', 1500.0, 'HR', 'Manager', '2021-06-13'),\n",
       " (3, 'George', 700.0, 'HR', 'Manager', '2021-06-22'),\n",
       " (2, 'Peter', 300.0, 'IT', 'Manager', '2021-06-22')]"
      ]
     },
     "execution_count": 49,
     "metadata": {},
     "output_type": "execute_result"
    }
   ],
   "source": [
    "cursor.execute('SELECT * FROM employees ORDER BY id DESC')\n",
    "rows = cursor.fetchall()\n",
    "rows"
   ]
  },
  {
   "cell_type": "code",
   "execution_count": 50,
   "metadata": {},
   "outputs": [
    {
     "data": {
      "text/plain": [
       "[(2, 'HHG'), (3, 'HR'), (1, 'IT')]"
      ]
     },
     "execution_count": 50,
     "metadata": {},
     "output_type": "execute_result"
    }
   ],
   "source": [
    "cursor.execute('SELECT COUNT(id),department FROM employees GROUP BY department')\n",
    "rows = cursor.fetchall()\n",
    "rows"
   ]
  },
  {
   "cell_type": "code",
   "execution_count": 51,
   "metadata": {},
   "outputs": [
    {
     "name": "stdout",
     "output_type": "stream",
     "text": [
      "(5, 'Mike', 33.0, 'HHG', 'UUR', '2021-06-18')\n",
      "(6, 'Joy', 4959.0, 'HHG', 'TR', '2021-06-19')\n"
     ]
    }
   ],
   "source": [
    "cursor.execute('SELECT * FROM employees WHERE department = \"HHG\" ')\n",
    "rows = cursor.fetchall()\n",
    "for row in rows:\n",
    "     print(row)"
   ]
  },
  {
   "cell_type": "code",
   "execution_count": 52,
   "metadata": {},
   "outputs": [
    {
     "name": "stdout",
     "output_type": "stream",
     "text": [
      "(3, 'George', 700.0, 'HR', 'Manager', '2021-06-22')\n",
      "(4, 'Joy Mercy', 1500.0, 'HR', 'Manager', '2021-06-13')\n",
      "(7, 'Obinna', 300.0, 'HR', 'Manager', '2021-06-27')\n"
     ]
    }
   ],
   "source": [
    "cursor.execute('SELECT * FROM employees WHERE department = \"HR\" ')\n",
    "rows = cursor.fetchall()\n",
    "for row in rows:\n",
    "     print(row)"
   ]
  },
  {
   "cell_type": "code",
   "execution_count": 53,
   "metadata": {},
   "outputs": [
    {
     "name": "stdout",
     "output_type": "stream",
     "text": [
      "(2, 'Peter', 300.0, 'IT', 'Manager', '2021-06-22')\n"
     ]
    }
   ],
   "source": [
    "cursor.execute('SELECT * FROM employees WHERE department = \"IT\" ')\n",
    "rows = cursor.fetchall()\n",
    "for row in rows:\n",
    "     print(row)"
   ]
  },
  {
   "cell_type": "code",
   "execution_count": 54,
   "metadata": {},
   "outputs": [],
   "source": [
    "cursor.execute('drop table if exists employees')\n",
    "con.commit()"
   ]
  },
  {
   "cell_type": "code",
   "execution_count": 55,
   "metadata": {},
   "outputs": [
    {
     "ename": "OperationalError",
     "evalue": "no such table: employees",
     "output_type": "error",
     "traceback": [
      "\u001b[1;31m---------------------------------------------------------------------------\u001b[0m",
      "\u001b[1;31mOperationalError\u001b[0m                          Traceback (most recent call last)",
      "\u001b[1;32m<ipython-input-55-ab2b8f11d645>\u001b[0m in \u001b[0;36m<module>\u001b[1;34m\u001b[0m\n\u001b[1;32m----> 1\u001b[1;33m \u001b[0mcursor\u001b[0m\u001b[1;33m.\u001b[0m\u001b[0mexecute\u001b[0m\u001b[1;33m(\u001b[0m\u001b[1;34m'SELECT * FROM employees'\u001b[0m\u001b[1;33m)\u001b[0m\u001b[1;33m\u001b[0m\u001b[1;33m\u001b[0m\u001b[0m\n\u001b[0m\u001b[0;32m      2\u001b[0m \u001b[0mrows\u001b[0m \u001b[1;33m=\u001b[0m \u001b[0mcursor\u001b[0m\u001b[1;33m.\u001b[0m\u001b[0mfetchall\u001b[0m\u001b[1;33m(\u001b[0m\u001b[1;33m)\u001b[0m\u001b[1;33m\u001b[0m\u001b[1;33m\u001b[0m\u001b[0m\n\u001b[0;32m      3\u001b[0m \u001b[0mrows\u001b[0m\u001b[1;33m\u001b[0m\u001b[1;33m\u001b[0m\u001b[0m\n",
      "\u001b[1;31mOperationalError\u001b[0m: no such table: employees"
     ]
    }
   ],
   "source": [
    "cursor.execute('SELECT * FROM employees')\n",
    "rows = cursor.fetchall()\n",
    "rows"
   ]
  },
  {
   "cell_type": "code",
   "execution_count": 56,
   "metadata": {},
   "outputs": [],
   "source": [
    "con.close()"
   ]
  },
  {
   "cell_type": "code",
   "execution_count": null,
   "metadata": {},
   "outputs": [],
   "source": []
  }
 ],
 "metadata": {
  "kernelspec": {
   "display_name": "Python 3",
   "language": "python",
   "name": "python3"
  },
  "language_info": {
   "codemirror_mode": {
    "name": "ipython",
    "version": 3
   },
   "file_extension": ".py",
   "mimetype": "text/x-python",
   "name": "python",
   "nbconvert_exporter": "python",
   "pygments_lexer": "ipython3",
   "version": "3.8.5"
  }
 },
 "nbformat": 4,
 "nbformat_minor": 4
}
